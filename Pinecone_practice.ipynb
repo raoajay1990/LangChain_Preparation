{
 "cells": [
  {
   "cell_type": "code",
   "execution_count": 2,
   "id": "f439945b-bd52-4268-8981-b122ad42ec8b",
   "metadata": {},
   "outputs": [
    {
     "data": {
      "text/plain": [
       "True"
      ]
     },
     "execution_count": 2,
     "metadata": {},
     "output_type": "execute_result"
    }
   ],
   "source": [
    "import os\n",
    "from dotenv import load_dotenv, find_dotenv\n",
    "\n",
    "load_dotenv(find_dotenv(), override = True)"
   ]
  },
  {
   "cell_type": "code",
   "execution_count": 3,
   "id": "0c4d3ca6-09e2-4393-9f51-149325bd8ae7",
   "metadata": {},
   "outputs": [
    {
     "name": "stdout",
     "output_type": "stream",
     "text": [
      "Note: you may need to restart the kernel to use updated packages.\n"
     ]
    },
    {
     "name": "stderr",
     "output_type": "stream",
     "text": [
      "\n",
      "[notice] A new release of pip is available: 24.0 -> 25.0\n",
      "[notice] To update, run: python.exe -m pip install --upgrade pip\n"
     ]
    }
   ],
   "source": [
    "pip install -q pinecone-client"
   ]
  },
  {
   "cell_type": "code",
   "execution_count": 4,
   "id": "19b3a223-9c13-47ca-b78c-2caf1b604ff0",
   "metadata": {},
   "outputs": [
    {
     "data": {
      "text/plain": [
       "{'indexes': []}"
      ]
     },
     "execution_count": 4,
     "metadata": {},
     "output_type": "execute_result"
    }
   ],
   "source": [
    "from pinecone import Pinecone\n",
    "pc = Pinecone()\n",
    "#pc = Pinecone(api_key=\"\")\n",
    "pc.list_indexes()"
   ]
  },
  {
   "cell_type": "code",
   "execution_count": 5,
   "id": "98b309bd-9c47-429a-af55-63699e6312a8",
   "metadata": {},
   "outputs": [
    {
     "name": "stdout",
     "output_type": "stream",
     "text": [
      "Creating index: langchain\n",
      "Index created\n"
     ]
    }
   ],
   "source": [
    "from pinecone import ServerlessSpec\n",
    "index_name = \"langchain\"\n",
    "if index_name not in pc.list_indexes().names():\n",
    "    print(f'Creating index: {index_name}')\n",
    "    llm_index = pc.create_index(\n",
    "        name=index_name,\n",
    "        dimension=1536,\n",
    "        metric='cosine',\n",
    "        spec=ServerlessSpec(\n",
    "            cloud='aws',\n",
    "            region='us-east-1'\n",
    "        )\n",
    "    )\n",
    "    print(f'Index created')\n",
    "else:\n",
    "    print(f'Index already exists')"
   ]
  },
  {
   "cell_type": "code",
   "execution_count": 6,
   "id": "4519124a-bee2-4430-a314-0cb37a47a2a0",
   "metadata": {},
   "outputs": [
    {
     "data": {
      "text/plain": [
       "{'indexes': [{'deletion_protection': 'disabled',\n",
       "              'dimension': 1536,\n",
       "              'host': 'langchain-v063ir9.svc.aped-4627-b74a.pinecone.io',\n",
       "              'metric': 'cosine',\n",
       "              'name': 'langchain',\n",
       "              'spec': {'serverless': {'cloud': 'aws', 'region': 'us-east-1'}},\n",
       "              'status': {'ready': True, 'state': 'Ready'}}]}"
      ]
     },
     "execution_count": 6,
     "metadata": {},
     "output_type": "execute_result"
    }
   ],
   "source": [
    "pc.list_indexes()"
   ]
  },
  {
   "cell_type": "code",
   "execution_count": 12,
   "id": "383e3b9f-0e36-4e3d-95c6-50c683dec932",
   "metadata": {},
   "outputs": [],
   "source": [
    "import random\n",
    "vectors = [[random.random() for _ in range(1536)] for y in range(5)]"
   ]
  },
  {
   "cell_type": "code",
   "execution_count": null,
   "id": "b09c74cf-f461-4afd-aa4e-be1d1e88096d",
   "metadata": {},
   "outputs": [],
   "source": [
    "ids = ['a','b','c','d','e']\n",
    "\n",
    "index_name = \"langchain\"\n",
    "index = pc.index(index_name)\n",
    "\n",
    "pc."
   ]
  }
 ],
 "metadata": {
  "kernelspec": {
   "display_name": "Python 3 (ipykernel)",
   "language": "python",
   "name": "python3"
  },
  "language_info": {
   "codemirror_mode": {
    "name": "ipython",
    "version": 3
   },
   "file_extension": ".py",
   "mimetype": "text/x-python",
   "name": "python",
   "nbconvert_exporter": "python",
   "pygments_lexer": "ipython3",
   "version": "3.12.2"
  }
 },
 "nbformat": 4,
 "nbformat_minor": 5
}
