{
 "cells": [
  {
   "cell_type": "code",
   "execution_count": null,
   "id": "bd34186a-3e3a-4d39-9b14-21621060b58f",
   "metadata": {},
   "outputs": [],
   "source": [
    "pip install -r ./requirements.txt"
   ]
  },
  {
   "cell_type": "code",
   "execution_count": null,
   "id": "b3cca33d-0e8b-4dac-b636-ba0b567694a1",
   "metadata": {},
   "outputs": [],
   "source": [
    "import os\n",
    "from dotenv import load_dotenv, find_dotenv\n",
    "load_dotenv(find_dotenv(), override = True)"
   ]
  },
  {
   "cell_type": "code",
   "execution_count": null,
   "id": "0b810b3c-a8ae-47b3-9d3c-38d5237523b1",
   "metadata": {},
   "outputs": [],
   "source": [
    "form langchain_openai import chatOpenAI\n",
    "llm = ChatOpenAI()\n",
    "output = llm.invoke('Explain quantum mechanics in one sentense')\n",
    "print(output.context)"
   ]
  }
 ],
 "metadata": {
  "kernelspec": {
   "display_name": "Python 3 (ipykernel)",
   "language": "python",
   "name": "python3"
  },
  "language_info": {
   "codemirror_mode": {
    "name": "ipython",
    "version": 3
   },
   "file_extension": ".py",
   "mimetype": "text/x-python",
   "name": "python",
   "nbconvert_exporter": "python",
   "pygments_lexer": "ipython3",
   "version": "3.12.2"
  }
 },
 "nbformat": 4,
 "nbformat_minor": 5
}
