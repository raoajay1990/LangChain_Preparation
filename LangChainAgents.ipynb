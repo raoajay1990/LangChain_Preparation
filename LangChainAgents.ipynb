{
 "cells": [
  {
   "cell_type": "markdown",
   "id": "0f67922e-f11b-4471-968b-c973f50176a5",
   "metadata": {},
   "source": [
    "### LangChain Agents ###"
   ]
  },
  {
   "cell_type": "code",
   "execution_count": 1,
   "id": "1f130de7-46dc-4b6d-be38-79815b55e321",
   "metadata": {},
   "outputs": [
    {
     "name": "stdout",
     "output_type": "stream",
     "text": [
      "Note: you may need to restart the kernel to use updated packages.Defaulting to user installation because normal site-packages is not writeable\n",
      "Requirement already satisfied: openai in c:\\users\\ajaye\\appdata\\roaming\\python\\python312\\site-packages (from -r ./requirements.txt (line 1)) (1.59.7)\n",
      "Requirement already satisfied: langchain in c:\\users\\ajaye\\appdata\\roaming\\python\\python312\\site-packages (from -r ./requirements.txt (line 2)) (0.3.14)\n",
      "Requirement already satisfied: langchain_openai in c:\\users\\ajaye\\appdata\\roaming\\python\\python312\\site-packages (from -r ./requirements.txt (line 3)) (0.3.0)\n",
      "Requirement already satisfied: langchain_experimental in c:\\users\\ajaye\\appdata\\roaming\\python\\python312\\site-packages (from -r ./requirements.txt (line 4)) (0.3.4)\n",
      "Requirement already satisfied: langchainhub in c:\\users\\ajaye\\appdata\\roaming\\python\\python312\\site-packages (from -r ./requirements.txt (line 5)) (0.1.21)\n",
      "Requirement already satisfied: pinecone-client in c:\\users\\ajaye\\appdata\\roaming\\python\\python312\\site-packages (from -r ./requirements.txt (line 6)) (5.0.1)\n",
      "Requirement already satisfied: python-dotenv in c:\\users\\ajaye\\appdata\\roaming\\python\\python312\\site-packages (from -r ./requirements.txt (line 7)) (1.0.1)\n",
      "Requirement already satisfied: tiktoken in c:\\users\\ajaye\\appdata\\roaming\\python\\python312\\site-packages (from -r ./requirements.txt (line 8)) (0.8.0)\n",
      "Requirement already satisfied: docx2txt in c:\\users\\ajaye\\appdata\\roaming\\python\\python312\\site-packages (from -r ./requirements.txt (line 9)) (0.8)\n",
      "Requirement already satisfied: pypdf in c:\\users\\ajaye\\appdata\\roaming\\python\\python312\\site-packages (from -r ./requirements.txt (line 10)) (5.1.0)\n",
      "Requirement already satisfied: requests in c:\\users\\ajaye\\appdata\\roaming\\python\\python312\\site-packages (from -r ./requirements.txt (line 11)) (2.32.3)\n",
      "Requirement already satisfied: numpy in c:\\users\\ajaye\\appdata\\roaming\\python\\python312\\site-packages (from -r ./requirements.txt (line 12)) (1.26.4)\n",
      "Requirement already satisfied: pandas in c:\\users\\ajaye\\appdata\\roaming\\python\\python312\\site-packages (from -r ./requirements.txt (line 13)) (2.2.3)\n",
      "Requirement already satisfied: anyio<5,>=3.5.0 in c:\\users\\ajaye\\appdata\\roaming\\python\\python312\\site-packages (from openai->-r ./requirements.txt (line 1)) (4.6.2.post1)\n",
      "Requirement already satisfied: distro<2,>=1.7.0 in c:\\users\\ajaye\\appdata\\roaming\\python\\python312\\site-packages (from openai->-r ./requirements.txt (line 1)) (1.9.0)\n",
      "Requirement already satisfied: httpx<1,>=0.23.0 in c:\\users\\ajaye\\appdata\\roaming\\python\\python312\\site-packages (from openai->-r ./requirements.txt (line 1)) (0.27.2)\n",
      "Requirement already satisfied: jiter<1,>=0.4.0 in c:\\users\\ajaye\\appdata\\roaming\\python\\python312\\site-packages (from openai->-r ./requirements.txt (line 1)) (0.8.2)\n",
      "Requirement already satisfied: pydantic<3,>=1.9.0 in c:\\users\\ajaye\\appdata\\roaming\\python\\python312\\site-packages (from openai->-r ./requirements.txt (line 1)) (2.10.5)\n",
      "Requirement already satisfied: sniffio in c:\\users\\ajaye\\appdata\\roaming\\python\\python312\\site-packages (from openai->-r ./requirements.txt (line 1)) (1.3.1)\n",
      "Requirement already satisfied: tqdm>4 in c:\\users\\ajaye\\appdata\\roaming\\python\\python312\\site-packages (from openai->-r ./requirements.txt (line 1)) (4.67.1)\n",
      "Requirement already satisfied: typing-extensions<5,>=4.11 in c:\\users\\ajaye\\appdata\\roaming\\python\\python312\\site-packages (from openai->-r ./requirements.txt (line 1)) (4.12.2)\n",
      "Requirement already satisfied: PyYAML>=5.3 in c:\\users\\ajaye\\appdata\\roaming\\python\\python312\\site-packages (from langchain->-r ./requirements.txt (line 2)) (6.0.2)\n",
      "Requirement already satisfied: SQLAlchemy<3,>=1.4 in c:\\users\\ajaye\\appdata\\roaming\\python\\python312\\site-packages (from langchain->-r ./requirements.txt (line 2)) (2.0.37)\n",
      "Requirement already satisfied: aiohttp<4.0.0,>=3.8.3 in c:\\users\\ajaye\\appdata\\roaming\\python\\python312\\site-packages (from langchain->-r ./requirements.txt (line 2)) (3.11.11)\n",
      "Requirement already satisfied: langchain-core<0.4.0,>=0.3.29 in c:\\users\\ajaye\\appdata\\roaming\\python\\python312\\site-packages (from langchain->-r ./requirements.txt (line 2)) (0.3.29)\n",
      "Requirement already satisfied: langchain-text-splitters<0.4.0,>=0.3.3 in c:\\users\\ajaye\\appdata\\roaming\\python\\python312\\site-packages (from langchain->-r ./requirements.txt (line 2)) (0.3.5)\n",
      "Requirement already satisfied: langsmith<0.3,>=0.1.17 in c:\\users\\ajaye\\appdata\\roaming\\python\\python312\\site-packages (from langchain->-r ./requirements.txt (line 2)) (0.2.10)\n",
      "Requirement already satisfied: tenacity!=8.4.0,<10,>=8.1.0 in c:\\users\\ajaye\\appdata\\roaming\\python\\python312\\site-packages (from langchain->-r ./requirements.txt (line 2)) (9.0.0)\n",
      "Requirement already satisfied: langchain-community<0.4.0,>=0.3.0 in c:\\users\\ajaye\\appdata\\roaming\\python\\python312\\site-packages (from langchain_experimental->-r ./requirements.txt (line 4)) (0.3.14)\n",
      "Requirement already satisfied: packaging<25,>=23.2 in c:\\users\\ajaye\\appdata\\roaming\\python\\python312\\site-packages (from langchainhub->-r ./requirements.txt (line 5)) (23.2)\n",
      "Requirement already satisfied: types-requests<3.0.0.0,>=2.31.0.2 in c:\\users\\ajaye\\appdata\\roaming\\python\\python312\\site-packages (from langchainhub->-r ./requirements.txt (line 5)) (2.32.0.20241016)\n",
      "Requirement already satisfied: certifi>=2019.11.17 in c:\\users\\ajaye\\appdata\\roaming\\python\\python312\\site-packages (from pinecone-client->-r ./requirements.txt (line 6)) (2024.8.30)\n",
      "Requirement already satisfied: pinecone-plugin-inference<2.0.0,>=1.0.3 in c:\\users\\ajaye\\appdata\\roaming\\python\\python312\\site-packages (from pinecone-client->-r ./requirements.txt (line 6)) (1.1.0)\n",
      "Requirement already satisfied: pinecone-plugin-interface<0.0.8,>=0.0.7 in c:\\users\\ajaye\\appdata\\roaming\\python\\python312\\site-packages (from pinecone-client->-r ./requirements.txt (line 6)) (0.0.7)\n",
      "Requirement already satisfied: urllib3>=1.26.5 in c:\\users\\ajaye\\appdata\\roaming\\python\\python312\\site-packages (from pinecone-client->-r ./requirements.txt (line 6)) (2.2.3)\n",
      "Requirement already satisfied: regex>=2022.1.18 in c:\\users\\ajaye\\appdata\\roaming\\python\\python312\\site-packages (from tiktoken->-r ./requirements.txt (line 8)) (2024.11.6)\n",
      "Requirement already satisfied: charset-normalizer<4,>=2 in c:\\users\\ajaye\\appdata\\roaming\\python\\python312\\site-packages (from requests->-r ./requirements.txt (line 11)) (3.4.0)\n",
      "Requirement already satisfied: idna<4,>=2.5 in c:\\users\\ajaye\\appdata\\roaming\\python\\python312\\site-packages (from requests->-r ./requirements.txt (line 11)) (3.10)\n",
      "Requirement already satisfied: python-dateutil>=2.8.2 in c:\\users\\ajaye\\appdata\\roaming\\python\\python312\\site-packages (from pandas->-r ./requirements.txt (line 13)) (2.8.2)\n",
      "Requirement already satisfied: pytz>=2020.1 in c:\\users\\ajaye\\appdata\\roaming\\python\\python312\\site-packages (from pandas->-r ./requirements.txt (line 13)) (2024.2)\n",
      "Requirement already satisfied: tzdata>=2022.7 in c:\\users\\ajaye\\appdata\\roaming\\python\\python312\\site-packages (from pandas->-r ./requirements.txt (line 13)) (2024.2)\n",
      "Requirement already satisfied: aiohappyeyeballs>=2.3.0 in c:\\users\\ajaye\\appdata\\roaming\\python\\python312\\site-packages (from aiohttp<4.0.0,>=3.8.3->langchain->-r ./requirements.txt (line 2)) (2.4.4)\n",
      "Requirement already satisfied: aiosignal>=1.1.2 in c:\\users\\ajaye\\appdata\\roaming\\python\\python312\\site-packages (from aiohttp<4.0.0,>=3.8.3->langchain->-r ./requirements.txt (line 2)) (1.3.2)\n",
      "Requirement already satisfied: attrs>=17.3.0 in c:\\users\\ajaye\\appdata\\roaming\\python\\python312\\site-packages (from aiohttp<4.0.0,>=3.8.3->langchain->-r ./requirements.txt (line 2)) (24.2.0)\n",
      "Requirement already satisfied: frozenlist>=1.1.1 in c:\\users\\ajaye\\appdata\\roaming\\python\\python312\\site-packages (from aiohttp<4.0.0,>=3.8.3->langchain->-r ./requirements.txt (line 2)) (1.5.0)\n",
      "Requirement already satisfied: multidict<7.0,>=4.5 in c:\\users\\ajaye\\appdata\\roaming\\python\\python312\\site-packages (from aiohttp<4.0.0,>=3.8.3->langchain->-r ./requirements.txt (line 2)) (6.1.0)\n",
      "Requirement already satisfied: propcache>=0.2.0 in c:\\users\\ajaye\\appdata\\roaming\\python\\python312\\site-packages (from aiohttp<4.0.0,>=3.8.3->langchain->-r ./requirements.txt (line 2)) (0.2.1)\n",
      "Requirement already satisfied: yarl<2.0,>=1.17.0 in c:\\users\\ajaye\\appdata\\roaming\\python\\python312\\site-packages (from aiohttp<4.0.0,>=3.8.3->langchain->-r ./requirements.txt (line 2)) (1.18.3)\n",
      "Requirement already satisfied: httpcore==1.* in c:\\users\\ajaye\\appdata\\roaming\\python\\python312\\site-packages (from httpx<1,>=0.23.0->openai->-r ./requirements.txt (line 1)) (1.0.6)\n",
      "Requirement already satisfied: h11<0.15,>=0.13 in c:\\users\\ajaye\\appdata\\roaming\\python\\python312\\site-packages (from httpcore==1.*->httpx<1,>=0.23.0->openai->-r ./requirements.txt (line 1)) (0.14.0)\n",
      "Requirement already satisfied: dataclasses-json<0.7,>=0.5.7 in c:\\users\\ajaye\\appdata\\roaming\\python\\python312\\site-packages (from langchain-community<0.4.0,>=0.3.0->langchain_experimental->-r ./requirements.txt (line 4)) (0.6.7)\n",
      "Requirement already satisfied: httpx-sse<0.5.0,>=0.4.0 in c:\\users\\ajaye\\appdata\\roaming\\python\\python312\\site-packages (from langchain-community<0.4.0,>=0.3.0->langchain_experimental->-r ./requirements.txt (line 4)) (0.4.0)\n",
      "Requirement already satisfied: pydantic-settings<3.0.0,>=2.4.0 in c:\\users\\ajaye\\appdata\\roaming\\python\\python312\\site-packages (from langchain-community<0.4.0,>=0.3.0->langchain_experimental->-r ./requirements.txt (line 4)) (2.7.1)\n",
      "Requirement already satisfied: jsonpatch<2.0,>=1.33 in c:\\users\\ajaye\\appdata\\roaming\\python\\python312\\site-packages (from langchain-core<0.4.0,>=0.3.29->langchain->-r ./requirements.txt (line 2)) (1.33)\n",
      "Requirement already satisfied: orjson<4.0.0,>=3.9.14 in c:\\users\\ajaye\\appdata\\roaming\\python\\python312\\site-packages (from langsmith<0.3,>=0.1.17->langchain->-r ./requirements.txt (line 2)) (3.10.14)\n",
      "Requirement already satisfied: requests-toolbelt<2.0.0,>=1.0.0 in c:\\users\\ajaye\\appdata\\roaming\\python\\python312\\site-packages (from langsmith<0.3,>=0.1.17->langchain->-r ./requirements.txt (line 2)) (1.0.0)\n",
      "Requirement already satisfied: annotated-types>=0.6.0 in c:\\users\\ajaye\\appdata\\roaming\\python\\python312\\site-packages (from pydantic<3,>=1.9.0->openai->-r ./requirements.txt (line 1)) (0.7.0)\n",
      "Requirement already satisfied: pydantic-core==2.27.2 in c:\\users\\ajaye\\appdata\\roaming\\python\\python312\\site-packages (from pydantic<3,>=1.9.0->openai->-r ./requirements.txt (line 1)) (2.27.2)\n",
      "Requirement already satisfied: six>=1.5 in c:\\users\\ajaye\\appdata\\roaming\\python\\python312\\site-packages (from python-dateutil>=2.8.2->pandas->-r ./requirements.txt (line 13)) (1.16.0)\n",
      "Requirement already satisfied: greenlet!=0.4.17 in c:\\users\\ajaye\\appdata\\roaming\\python\\python312\\site-packages (from SQLAlchemy<3,>=1.4->langchain->-r ./requirements.txt (line 2)) (3.1.1)\n",
      "Requirement already satisfied: colorama in c:\\users\\ajaye\\appdata\\roaming\\python\\python312\\site-packages (from tqdm>4->openai->-r ./requirements.txt (line 1)) (0.4.6)\n",
      "Requirement already satisfied: marshmallow<4.0.0,>=3.18.0 in c:\\users\\ajaye\\appdata\\roaming\\python\\python312\\site-packages (from dataclasses-json<0.7,>=0.5.7->langchain-community<0.4.0,>=0.3.0->langchain_experimental->-r ./requirements.txt (line 4)) (3.25.1)\n",
      "Requirement already satisfied: typing-inspect<1,>=0.4.0 in c:\\users\\ajaye\\appdata\\roaming\\python\\python312\\site-packages (from dataclasses-json<0.7,>=0.5.7->langchain-community<0.4.0,>=0.3.0->langchain_experimental->-r ./requirements.txt (line 4)) (0.9.0)\n",
      "Requirement already satisfied: jsonpointer>=1.9 in c:\\users\\ajaye\\appdata\\roaming\\python\\python312\\site-packages (from jsonpatch<2.0,>=1.33->langchain-core<0.4.0,>=0.3.29->langchain->-r ./requirements.txt (line 2)) (3.0.0)\n",
      "Requirement already satisfied: mypy-extensions>=0.3.0 in c:\\users\\ajaye\\appdata\\roaming\\python\\python312\\site-packages (from typing-inspect<1,>=0.4.0->dataclasses-json<0.7,>=0.5.7->langchain-community<0.4.0,>=0.3.0->langchain_experimental->-r ./requirements.txt (line 4)) (1.0.0)\n",
      "\n"
     ]
    },
    {
     "name": "stderr",
     "output_type": "stream",
     "text": [
      "\n",
      "[notice] A new release of pip is available: 24.0 -> 24.3.1\n",
      "[notice] To update, run: python.exe -m pip install --upgrade pip\n"
     ]
    }
   ],
   "source": [
    "pip install -r ./requirements.txt"
   ]
  },
  {
   "cell_type": "code",
   "execution_count": 4,
   "id": "4d1ecb0e-054b-4974-8e27-7ea3a6fd0021",
   "metadata": {},
   "outputs": [
    {
     "data": {
      "text/plain": [
       "146306.05007233328"
      ]
     },
     "execution_count": 4,
     "metadata": {},
     "output_type": "execute_result"
    }
   ],
   "source": [
    "5.1**7.3"
   ]
  },
  {
   "cell_type": "code",
   "execution_count": null,
   "id": "9123a6e0-7b8d-448d-bdbc-d5d1e857d402",
   "metadata": {},
   "outputs": [],
   "source": []
  }
 ],
 "metadata": {
  "kernelspec": {
   "display_name": "Python 3 (ipykernel)",
   "language": "python",
   "name": "python3"
  },
  "language_info": {
   "codemirror_mode": {
    "name": "ipython",
    "version": 3
   },
   "file_extension": ".py",
   "mimetype": "text/x-python",
   "name": "python",
   "nbconvert_exporter": "python",
   "pygments_lexer": "ipython3",
   "version": "3.12.2"
  }
 },
 "nbformat": 4,
 "nbformat_minor": 5
}
